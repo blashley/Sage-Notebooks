{
 "cells": [
  {
   "cell_type": "markdown",
   "metadata": {},
   "source": [
    "**Scenario**: Alice wants to send a message to Bob using RSA."
   ]
  },
  {
   "cell_type": "markdown",
   "metadata": {},
   "source": [
    "**Step 1**: Bob generates a public key $(n,e)$ where $n=pq$ is a product of large primes. An important detail is that $e$ must be invertible modulo $\\phi(n) = (p-1)(q-1)$."
   ]
  },
  {
   "cell_type": "code",
   "execution_count": 1,
   "metadata": {},
   "outputs": [
    {
     "name": "stdout",
     "output_type": "stream",
     "text": [
      "n = 1022996316199943876276108843150540399217141129248647452513958451507439380242482771904052232493285663321493655473643072726110318227954277976925513690908001465423605764113675075363834698719789104588943102843586783913592588943609849835315173351865389669923371\n",
      "e = 65537\n"
     ]
    }
   ],
   "source": [
    "e = 65537\n",
    "\n",
    "valid = False\n",
    "while not valid:\n",
    "    p = next_prime(ZZ.random_element(10^127, 10^128))\n",
    "    q = next_prime(ZZ.random_element(10^127, 10^128))\n",
    "    n = p * q\n",
    "    phi = (p-1)*(q-1)\n",
    "    if gcd(phi, e) == 1:\n",
    "        valid = True\n",
    "\n",
    "print(\"n = {}\".format(n))\n",
    "print(\"e = {}\".format(e))"
   ]
  },
  {
   "cell_type": "markdown",
   "metadata": {},
   "source": [
    "**Step 2**: Bob computes his private key $d = e^{-1} \\bmod{\\phi(n)}$."
   ]
  },
  {
   "cell_type": "code",
   "execution_count": 2,
   "metadata": {},
   "outputs": [
    {
     "data": {
      "text/plain": [
       "541210740120610557063113139291019374119302336593208484879746821347726294944342320635019897233733624039593329303784924814375039301134748445909338029416271633162777128689885999857712585683767846252157061195251245224912876863215893934101695417679410355678337"
      ]
     },
     "execution_count": 2,
     "metadata": {},
     "output_type": "execute_result"
    }
   ],
   "source": [
    "d = e.inverse_mod(phi); d"
   ]
  },
  {
   "cell_type": "markdown",
   "metadata": {},
   "source": [
    "**Step 3**: Alice encrypts her message for Bob using his public key. If $M$ is the message (as a number), then the ciphertext is given by $C = M^e \\bmod{n}$."
   ]
  },
  {
   "cell_type": "code",
   "execution_count": 3,
   "metadata": {},
   "outputs": [
    {
     "data": {
      "text/plain": [
       "730427929538661009399291638265991315191795498010416246053474735405601851802778006195431393766108516731992958020285813520248889687242995773671340994561765742061848423841515112335370090895791813959062340111844698276214378477534352533581083241774196319489160"
      ]
     },
     "execution_count": 3,
     "metadata": {},
     "output_type": "execute_result"
    }
   ],
   "source": [
    "def text_to_number(message):\n",
    "    digits = [str(ord(c)).zfill(3) for c in message]\n",
    "    return Integer(\"\".join(digits), base=10)\n",
    "\n",
    "M = \"Hello, Bob. Let's meet at 7:00 tomorrow in the park. - Alice\"\n",
    "C = power_mod(text_to_number(M), e, n); C"
   ]
  },
  {
   "cell_type": "markdown",
   "metadata": {},
   "source": [
    "**Step 4**: Bob now uses his private key to decrypt the ciphertext. He computes $C^d \\equiv M^{ed} \\equiv M \\bmod{n}$. The second congruence is a consequence of Euler's Theorem together with the fact that $ed \\equiv 1 \\bmod{\\phi(n)}$."
   ]
  },
  {
   "cell_type": "code",
   "execution_count": 4,
   "metadata": {},
   "outputs": [
    {
     "data": {
      "text/plain": [
       "\"Hello, Bob. Let's meet at 7:00 tomorrow in the park. - Alice\""
      ]
     },
     "execution_count": 4,
     "metadata": {},
     "output_type": "execute_result"
    }
   ],
   "source": [
    "def number_to_text(num):\n",
    "    num = str(num)\n",
    "    # Add leading zeros to ensure proper segmentation\n",
    "    while len(num) % 3 != 0:\n",
    "        num = \"0\" + num\n",
    "    message = \"\"\n",
    "    for i in range(0, len(num), 3):\n",
    "        message += chr(int(num[i:i+3]))\n",
    "    return message\n",
    "\n",
    "M_recovered = number_to_text(power_mod(C, d, n)); M_recovered"
   ]
  },
  {
   "cell_type": "markdown",
   "metadata": {},
   "source": [
    "Success! The secret meeting has been arranged."
   ]
  },
  {
   "cell_type": "markdown",
   "metadata": {},
   "source": [
    "But how does Bob know that the message really came from Alice, and not some malicious third party? In fact, RSA can be used not only for encryption, but also to digitally sign it.\n",
    "\n",
    "**Scenario**: Alice wants to sign her message to Bob.\n",
    "\n",
    "**Step 1**: Alice generates her own public/private key pair."
   ]
  },
  {
   "cell_type": "code",
   "execution_count": 5,
   "metadata": {},
   "outputs": [
    {
     "name": "stdout",
     "output_type": "stream",
     "text": [
      "n2 = 770927125625116750157627534072287344615863472428419164865418149391613842112244627181949829417707208968841456238798414557629280637371024665893958509598517246246523336345080806994410473803073985705284060622870745319301116411021258622650528382390507965630387\n",
      "e2 = 65537\n",
      "d2 = 348156463327991523176454554311877085289160492446464165624331003365176844911974979487986467205942906508549377913235526125122508159740533633356500384414171768587347521278202450631021331904812671805411007461944455425052448647756460966932205280420509996718273\n"
     ]
    }
   ],
   "source": [
    "e2 = 65537\n",
    "\n",
    "valid = False\n",
    "while not valid:\n",
    "    p2 = next_prime(ZZ.random_element(10^127, 10^128))\n",
    "    q2 = next_prime(ZZ.random_element(10^127, 10^128))\n",
    "    n2 = p2 * q2\n",
    "    phi2 = (p2-1)*(q2-1)\n",
    "    if gcd(phi2, e2) == 1:\n",
    "        valid = True\n",
    "\n",
    "print(\"n2 = {}\".format(n2))\n",
    "print(\"e2 = {}\".format(e2))\n",
    "\n",
    "d2 = e2.inverse_mod(phi2)\n",
    "print(\"d2 = {}\".format(d2))"
   ]
  },
  {
   "cell_type": "markdown",
   "metadata": {},
   "source": [
    "**Step 2**: Alice computes the hash $H$ of the message she wishes to send."
   ]
  },
  {
   "cell_type": "code",
   "execution_count": 6,
   "metadata": {},
   "outputs": [
    {
     "data": {
      "text/plain": [
       "57042791815245828132199993481351231338844362204265837177338143641469729443894"
      ]
     },
     "execution_count": 6,
     "metadata": {},
     "output_type": "execute_result"
    }
   ],
   "source": [
    "from hashlib import sha256\n",
    "H = int(sha256(M.encode('UTF-8')).hexdigest(), 16); H"
   ]
  },
  {
   "cell_type": "markdown",
   "metadata": {},
   "source": [
    "**Step 3**: Alice signs the hash using her private key, which produces a signature $S$ to send to Bob."
   ]
  },
  {
   "cell_type": "code",
   "execution_count": 7,
   "metadata": {},
   "outputs": [
    {
     "data": {
      "text/plain": [
       "542389115819286542768066546499426804285249931618472495445069609464871128289157849519283108883970701065725773348824767273008648196774664309118300616205391136374018136738267067607311184922206269996597935128566715778409341230470864862523699451856166111498411"
      ]
     },
     "execution_count": 7,
     "metadata": {},
     "output_type": "execute_result"
    }
   ],
   "source": [
    "S = power_mod(H, d2, n2); S"
   ]
  },
  {
   "cell_type": "markdown",
   "metadata": {},
   "source": [
    "**Step 4**: Bob decodes the signature using Alice's public key and verifies that the resulting hash is equal to the hash of the message he received. Only Alice could have created the valid signature, as only she knows her private key."
   ]
  },
  {
   "cell_type": "code",
   "execution_count": 8,
   "metadata": {},
   "outputs": [
    {
     "data": {
      "text/plain": [
       "True"
      ]
     },
     "execution_count": 8,
     "metadata": {},
     "output_type": "execute_result"
    }
   ],
   "source": [
    "H_recovered = power_mod(S, e2, n2)\n",
    "H_message = int(sha256(M_recovered.encode('UTF-8')).hexdigest(), 16)\n",
    "H_recovered == H_message"
   ]
  },
  {
   "cell_type": "markdown",
   "metadata": {},
   "source": [
    "Now Bob can rest assured that it was in fact Alice who set up the meeting.\n",
    "\n",
    "**Remark**: Though not mentioned above, a real-life implementation of RSA **must** use message padding to be secure. The problems with the above \"textbook RSA\" are described in [this post](https://crypto.stackexchange.com/questions/1448/definition-of-textbook-rsa). The most blatant issue is that RSA as described above is deterministic: sending the same message twice produces the exact same ciphertext. In certain contexts, this may prove useful to an attacker."
   ]
  }
 ],
 "metadata": {
  "kernelspec": {
   "display_name": "SageMath 9.0",
   "language": "sage",
   "name": "sagemath"
  },
  "language_info": {
   "codemirror_mode": {
    "name": "ipython",
    "version": 3
   },
   "file_extension": ".py",
   "mimetype": "text/x-python",
   "name": "python",
   "nbconvert_exporter": "python",
   "pygments_lexer": "ipython3",
   "version": "3.7.3"
  }
 },
 "nbformat": 4,
 "nbformat_minor": 2
}
