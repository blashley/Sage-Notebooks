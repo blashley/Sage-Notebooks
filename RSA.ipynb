{
 "cells": [
  {
   "cell_type": "markdown",
   "metadata": {},
   "source": [
    "**Scenario**: Alice wants to send a message to Bob using RSA."
   ]
  },
  {
   "cell_type": "markdown",
   "metadata": {},
   "source": [
    "**Step 1**: Bob generates a public key $(n,e)$ where $n=pq$ is a product of large primes. An important detail is that $e$ must be invertible modulo $\\phi(n) = (p-1)(q-1)$."
   ]
  },
  {
   "cell_type": "code",
   "execution_count": 1,
   "metadata": {},
   "outputs": [
    {
     "name": "stdout",
     "output_type": "stream",
     "text": [
      "n = 4710790115219452726286748120949682298590812713562015220567129611692916184504010327131124995122443503774896946947952572715068817097416779578368075986780847553666192498628000915159753251257263780168272533447265411070620228906187016370232155903540640193682283\n",
      "e = 65537\n"
     ]
    }
   ],
   "source": [
    "e = 65537\n",
    "\n",
    "valid = False\n",
    "while not valid:\n",
    "    p = next_prime(ZZ.random_element(10^127, 10^128))\n",
    "    q = next_prime(ZZ.random_element(10^127, 10^128))\n",
    "    n = p * q\n",
    "    phi = (p-1)*(q-1)\n",
    "    if gcd(phi, e) == 1:\n",
    "        valid = True\n",
    "\n",
    "print(\"n = {}\".format(n))\n",
    "print(\"e = {}\".format(e))"
   ]
  },
  {
   "cell_type": "markdown",
   "metadata": {},
   "source": [
    "**Step 2**: Bob computes the private key $d = e^{-1} \\bmod{\\phi(n)}$."
   ]
  },
  {
   "cell_type": "code",
   "execution_count": 2,
   "metadata": {},
   "outputs": [
    {
     "data": {
      "text/plain": [
       "2135262998957978892641929592153001546636841516533762975756704643864531000455866621568842014512524325543389058181422389262154725980362280652744439472980599491109767706781091378217830325192360370563901384476962013402270999536154164646740654583812452777965777"
      ]
     },
     "execution_count": 2,
     "metadata": {},
     "output_type": "execute_result"
    }
   ],
   "source": [
    "d = e.inverse_mod(phi); d"
   ]
  },
  {
   "cell_type": "markdown",
   "metadata": {},
   "source": [
    "**Step 3**: Alice encrypts her message for Bob using the public key. If $M$ is the message (as a number), then the ciphertext is given by $C = M^e \\bmod{n}$."
   ]
  },
  {
   "cell_type": "code",
   "execution_count": 3,
   "metadata": {},
   "outputs": [
    {
     "data": {
      "text/plain": [
       "1288809603515652321418863389420277226354878688888153963394931419377827298261157800203298740683488949799430162587598636226386971194329448114889360795617443862922665668979794662010704246384195913836986110332591468336522499734916147761288367075578528152870288"
      ]
     },
     "execution_count": 3,
     "metadata": {},
     "output_type": "execute_result"
    }
   ],
   "source": [
    "def text_to_number(message):\n",
    "    a = str(ord('H')).zfill(3)\n",
    "    digits = [str(ord(c)).zfill(3) for c in message]\n",
    "    return Integer(\"\".join(digits), base=10)\n",
    "\n",
    "M = text_to_number(\"Hello, Bob. Let's meet at 7:00 tomorrow in the park.\")\n",
    "C = power_mod(M, e, n); C"
   ]
  },
  {
   "cell_type": "markdown",
   "metadata": {},
   "source": [
    "**Step 4**: Bob now uses his private key to decrypt the ciphertext. He computes $C^d \\equiv M^{ed} \\equiv M \\bmod{n}$. The second congruence is a consequence of Euler's Theorem together with the fact that $ed \\equiv 1 \\bmod{\\phi(n)}$."
   ]
  },
  {
   "cell_type": "code",
   "execution_count": 4,
   "metadata": {},
   "outputs": [
    {
     "data": {
      "text/plain": [
       "\"Hello, Bob. Let's meet at 7:00 tomorrow in the park.\""
      ]
     },
     "execution_count": 4,
     "metadata": {},
     "output_type": "execute_result"
    }
   ],
   "source": [
    "def number_to_text(num):\n",
    "    num = str(num)\n",
    "    # Add leading zeros to ensure proper segmentation\n",
    "    while len(num) % 3 != 0:\n",
    "        num = \"0\" + num\n",
    "    message = \"\"\n",
    "    for i in range(0, len(num), 3):\n",
    "        message += chr(int(num[i:i+3]))\n",
    "    return message\n",
    "\n",
    "number_to_text(power_mod(C, d, n))"
   ]
  },
  {
   "cell_type": "markdown",
   "metadata": {},
   "source": [
    "Success! The secret meeting has been arranged."
   ]
  },
  {
   "cell_type": "code",
   "execution_count": null,
   "metadata": {},
   "outputs": [],
   "source": []
  }
 ],
 "metadata": {
  "kernelspec": {
   "display_name": "SageMath 9.0",
   "language": "sage",
   "name": "sagemath"
  },
  "language_info": {
   "codemirror_mode": {
    "name": "ipython",
    "version": 3
   },
   "file_extension": ".py",
   "mimetype": "text/x-python",
   "name": "python",
   "nbconvert_exporter": "python",
   "pygments_lexer": "ipython3",
   "version": "3.7.3"
  }
 },
 "nbformat": 4,
 "nbformat_minor": 2
}
